{
 "cells": [
  {
   "cell_type": "code",
   "execution_count": 32,
   "id": "5e3a95a6",
   "metadata": {},
   "outputs": [
    {
     "name": "stdout",
     "output_type": "stream",
     "text": [
      "('Algeria', Decimal('2.860'), Decimal('2.909'), Decimal('2.952'), Decimal('2.990'), Decimal('3.022'), Decimal('3.043'), Decimal('3.052'), Decimal('3.045'), Decimal('3.023'), Decimal('2.988'))\n",
      "('Angola ', Decimal('6.194'), Decimal('6.120'), Decimal('6.039'), Decimal('5.953'), Decimal('5.864'), Decimal('5.774'), Decimal('5.686'), Decimal('5.600'), Decimal('5.519'), Decimal('5.442'))\n",
      "('Benin ', Decimal('5.362'), Decimal('5.305'), Decimal('5.246'), Decimal('5.183'), Decimal('5.116'), Decimal('5.047'), Decimal('4.977'), Decimal('4.906'), Decimal('4.836'), Decimal('4.767'))\n",
      "('Botswana ', Decimal('3.022'), Decimal('3.017'), Decimal('3.011'), Decimal('3.002'), Decimal('2.988'), Decimal('2.968'), Decimal('2.942'), Decimal('2.910'), Decimal('2.874'), Decimal('2.836'))\n",
      "('Burkina Faso ', Decimal('5.867'), Decimal('5.781'), Decimal('5.693'), Decimal('5.606'), Decimal('5.521'), Decimal('5.436'), Decimal('5.353'), Decimal('5.271'), Decimal('5.189'), Decimal('5.109'))\n",
      "('Burundi', Decimal('6.179'), Decimal('6.088'), Decimal('5.994'), Decimal('5.897'), Decimal('5.797'), Decimal('5.697'), Decimal('5.599'), Decimal('5.502'), Decimal('5.410'), Decimal('5.321'))\n",
      "('Cameroon', Decimal('5.111'), Decimal('5.049'), Decimal('4.984'), Decimal('4.916'), Decimal('4.847'), Decimal('4.777'), Decimal('4.708'), Decimal('4.639'), Decimal('4.572'), Decimal('4.506'))\n",
      "('Cape Verde', Decimal('2.581'), Decimal('2.539'), Decimal('2.500'), Decimal('2.463'), Decimal('2.425'), Decimal('2.385'), Decimal('2.346'), Decimal('2.309'), Decimal('2.274'), Decimal('2.242'))\n",
      "('Central African Republic ', Decimal('5.215'), Decimal('5.172'), Decimal('5.123'), Decimal('5.068'), Decimal('5.007'), Decimal('4.941'), Decimal('4.870'), Decimal('4.796'), Decimal('4.721'), Decimal('4.645'))\n",
      "('Chad ', Decimal('6.592'), Decimal('6.482'), Decimal('6.372'), Decimal('6.262'), Decimal('6.154'), Decimal('6.049'), Decimal('5.947'), Decimal('5.846'), Decimal('5.747'), Decimal('5.649'))\n",
      "('Comoros', Decimal('4.754'), Decimal('4.693'), Decimal('4.628'), Decimal('4.561'), Decimal('4.491'), Decimal('4.419'), Decimal('4.347'), Decimal('4.275'), Decimal('4.205'), Decimal('4.138'))\n",
      "('Congo [DRC] ', Decimal('6.544'), Decimal('6.493'), Decimal('6.432'), Decimal('6.363'), Decimal('6.287'), Decimal('6.203'), Decimal('6.112'), Decimal('6.017'), Decimal('5.919'), Decimal('5.819'))\n",
      "('Djibouti ', Decimal('3.300'), Decimal('3.213'), Decimal('3.131'), Decimal('3.054'), Decimal('2.981'), Decimal('2.912'), Decimal('2.846'), Decimal('2.785'), Decimal('2.728'), Decimal('2.676'))\n",
      "('Egypt ', Decimal('3.233'), Decimal('3.311'), Decimal('3.377'), Decimal('3.421'), Decimal('3.441'), Decimal('3.436'), Decimal('3.410'), Decimal('3.370'), Decimal('3.326'), Decimal('3.280'))\n",
      "('Equatorial Guinea ', Decimal('5.209'), Decimal('5.126'), Decimal('5.040'), Decimal('4.952'), Decimal('4.863'), Decimal('4.774'), Decimal('4.686'), Decimal('4.599'), Decimal('4.513'), Decimal('4.429'))\n",
      "('Eritrea ', Decimal('4.571'), Decimal('4.486'), Decimal('4.407'), Decimal('4.335'), Decimal('4.273'), Decimal('4.217'), Decimal('4.164'), Decimal('4.112'), Decimal('4.056'), Decimal('3.997'))\n",
      "('Eswatini ', Decimal('3.342'), Decimal('3.264'), Decimal('3.195'), Decimal('3.139'), Decimal('3.097'), Decimal('3.065'), Decimal('3.041'), Decimal('3.018'), Decimal('2.990'), Decimal('2.958'))\n",
      "('Ethiopia', Decimal('5.136'), Decimal('5.017'), Decimal('4.901'), Decimal('4.787'), Decimal('4.675'), Decimal('4.565'), Decimal('4.456'), Decimal('4.350'), Decimal('4.247'), Decimal('4.146'))\n",
      "('Gabon ', Decimal('4.146'), Decimal('4.129'), Decimal('4.113'), Decimal('4.098'), Decimal('4.083'), Decimal('4.064'), Decimal('4.039'), Decimal('4.008'), Decimal('3.969'), Decimal('3.922'))\n",
      "('Gambia ', Decimal('5.583'), Decimal('5.552'), Decimal('5.518'), Decimal('5.480'), Decimal('5.437'), Decimal('5.390'), Decimal('5.338'), Decimal('5.281'), Decimal('5.219'), Decimal('5.154'))\n",
      "('Ghana ', Decimal('4.273'), Decimal('4.234'), Decimal('4.192'), Decimal('4.146'), Decimal('4.095'), Decimal('4.041'), Decimal('3.984'), Decimal('3.926'), Decimal('3.870'), Decimal('3.816'))\n",
      "('Guinea ', Decimal('5.336'), Decimal('5.256'), Decimal('5.175'), Decimal('5.094'), Decimal('5.013'), Decimal('4.933'), Decimal('4.854'), Decimal('4.777'), Decimal('4.700'), Decimal('4.625'))\n",
      "('Guinea-Bissau', Decimal('5.049'), Decimal('4.987'), Decimal('4.923'), Decimal('4.855'), Decimal('4.783'), Decimal('4.708'), Decimal('4.631'), Decimal('4.553'), Decimal('4.476'), Decimal('4.402'))\n",
      "('Ivory Coast ', Decimal('5.088'), Decimal('5.029'), Decimal('4.974'), Decimal('4.920'), Decimal('4.867'), Decimal('4.813'), Decimal('4.759'), Decimal('4.704'), Decimal('4.649'), Decimal('4.593'))\n",
      "('Kenya ', Decimal('4.369'), Decimal('4.248'), Decimal('4.123'), Decimal('3.999'), Decimal('3.879'), Decimal('3.765'), Decimal('3.663'), Decimal('3.572'), Decimal('3.492'), Decimal('3.423'))\n",
      "('Lesotho ', Decimal('3.302'), Decimal('3.282'), Decimal('3.265'), Decimal('3.250'), Decimal('3.235'), Decimal('3.218'), Decimal('3.197'), Decimal('3.171'), Decimal('3.141'), Decimal('3.108'))\n",
      "('Liberia ', Decimal('4.971'), Decimal('4.881'), Decimal('4.793'), Decimal('4.706'), Decimal('4.621'), Decimal('4.540'), Decimal('4.461'), Decimal('4.387'), Decimal('4.315'), Decimal('4.247'))\n",
      "('Libya ', Decimal('2.478'), Decimal('2.466'), Decimal('2.447'), Decimal('2.423'), Decimal('2.392'), Decimal('2.356'), Decimal('2.317'), Decimal('2.277'), Decimal('2.240'), Decimal('2.206'))\n",
      "('Madagascar ', Decimal('4.603'), Decimal('4.520'), Decimal('4.442'), Decimal('4.369'), Decimal('4.302'), Decimal('4.241'), Decimal('4.184'), Decimal('4.130'), Decimal('4.077'), Decimal('4.026'))\n",
      "('Malawi ', Decimal('5.332'), Decimal('5.161'), Decimal('4.988'), Decimal('4.821'), Decimal('4.666'), Decimal('4.527'), Decimal('4.407'), Decimal('4.302'), Decimal('4.209'), Decimal('4.127'))\n",
      "('Mali ', Decimal('6.547'), Decimal('6.474'), Decimal('6.396'), Decimal('6.315'), Decimal('6.231'), Decimal('6.145'), Decimal('6.057'), Decimal('5.968'), Decimal('5.877'), Decimal('5.785'))\n",
      "('Mauritania ', Decimal('4.980'), Decimal('4.939'), Decimal('4.895'), Decimal('4.847'), Decimal('4.794'), Decimal('4.738'), Decimal('4.679'), Decimal('4.619'), Decimal('4.561'), Decimal('4.503'))\n",
      "('Mauritius ', Decimal('1.570'), Decimal('1.550'), Decimal('1.540'), Decimal('1.440'), Decimal('1.430'), Decimal('1.360'), Decimal('1.400'), Decimal('1.440'), Decimal('1.410'), Decimal('1.400'))\n",
      "('Morocco', Decimal('2.567'), Decimal('2.576'), Decimal('2.579'), Decimal('2.571'), Decimal('2.552'), Decimal('2.524'), Decimal('2.489'), Decimal('2.451'), Decimal('2.415'), Decimal('2.382'))\n",
      "('Mozambique ', Decimal('5.392'), Decimal('5.329'), Decimal('5.264'), Decimal('5.198'), Decimal('5.131'), Decimal('5.062'), Decimal('4.992'), Decimal('4.922'), Decimal('4.852'), Decimal('4.783'))\n",
      "('Namibia ', Decimal('3.631'), Decimal('3.632'), Decimal('3.623'), Decimal('3.604'), Decimal('3.577'), Decimal('3.540'), Decimal('3.496'), Decimal('3.447'), Decimal('3.396'), Decimal('3.344'))\n",
      "('Niger ', Decimal('7.473'), Decimal('7.429'), Decimal('7.376'), Decimal('7.314'), Decimal('7.245'), Decimal('7.169'), Decimal('7.087'), Decimal('7.001'), Decimal('6.913'), Decimal('6.824'))\n",
      "('Nigeria ', Decimal('5.839'), Decimal('5.802'), Decimal('5.758'), Decimal('5.709'), Decimal('5.653'), Decimal('5.592'), Decimal('5.526'), Decimal('5.457'), Decimal('5.387'), Decimal('5.317'))\n",
      "('Republic  the Congo ', Decimal('4.765'), Decimal('4.742'), Decimal('4.712'), Decimal('4.676'), Decimal('4.634'), Decimal('4.587'), Decimal('4.536'), Decimal('4.482'), Decimal('4.428'), Decimal('4.374'))\n",
      "('Rwanda ', Decimal('4.520'), Decimal('4.412'), Decimal('4.322'), Decimal('4.251'), Decimal('4.197'), Decimal('4.157'), Decimal('4.123'), Decimal('4.088'), Decimal('4.044'), Decimal('3.990'))\n",
      "('São Tomé Príncipe ', Decimal('4.727'), Decimal('4.677'), Decimal('4.627'), Decimal('4.577'), Decimal('4.527'), Decimal('4.477'), Decimal('4.426'), Decimal('4.374'), Decimal('4.321'), Decimal('4.267'))\n",
      "('Senegal ', Decimal('5.064'), Decimal('5.039'), Decimal('5.005'), Decimal('4.960'), Decimal('4.905'), Decimal('4.841'), Decimal('4.770'), Decimal('4.697'), Decimal('4.625'), Decimal('4.556'))\n",
      "('Seychelles ', Decimal('2.160'), Decimal('2.330'), Decimal('2.370'), Decimal('2.260'), Decimal('2.250'), Decimal('2.310'), Decimal('2.390'), Decimal('2.410'), Decimal('2.410'), Decimal('2.340'))\n",
      "('Sierra Leone ', Decimal('5.202'), Decimal('5.060'), Decimal('4.923'), Decimal('4.793'), Decimal('4.672'), Decimal('4.561'), Decimal('4.457'), Decimal('4.359'), Decimal('4.263'), Decimal('4.169'))\n",
      "('Somalia ', Decimal('6.865'), Decimal('6.765'), Decimal('6.664'), Decimal('6.563'), Decimal('6.462'), Decimal('6.363'), Decimal('6.265'), Decimal('6.168'), Decimal('6.072'), Decimal('5.978'))\n",
      "('South Africa ', Decimal('2.598'), Decimal('2.582'), Decimal('2.561'), Decimal('2.537'), Decimal('2.511'), Decimal('2.484'), Decimal('2.457'), Decimal('2.430'), Decimal('2.405'), Decimal('2.381'))\n",
      "('South Sudan ', Decimal('5.376'), Decimal('5.286'), Decimal('5.197'), Decimal('5.108'), Decimal('5.022'), Decimal('4.937'), Decimal('4.855'), Decimal('4.775'), Decimal('4.696'), Decimal('4.619'))\n",
      "('Sudan ', Decimal('4.876'), Decimal('4.824'), Decimal('4.771'), Decimal('4.715'), Decimal('4.656'), Decimal('4.594'), Decimal('4.532'), Decimal('4.469'), Decimal('4.407'), Decimal('4.347'))\n",
      "('Tanzania ', Decimal('5.427'), Decimal('5.358'), Decimal('5.287'), Decimal('5.215'), Decimal('5.146'), Decimal('5.079'), Decimal('5.015'), Decimal('4.953'), Decimal('4.892'), Decimal('4.832'))\n",
      "('Togo ', Decimal('4.868'), Decimal('4.798'), Decimal('4.727'), Decimal('4.656'), Decimal('4.585'), Decimal('4.516'), Decimal('4.449'), Decimal('4.384'), Decimal('4.320'), Decimal('4.259'))\n",
      "('Tunisia ', Decimal('2.140'), Decimal('2.182'), Decimal('2.216'), Decimal('2.240'), Decimal('2.252'), Decimal('2.251'), Decimal('2.238'), Decimal('2.219'), Decimal('2.197'), Decimal('2.174'))\n",
      "('Uganda ', Decimal('6.111'), Decimal('5.983'), Decimal('5.845'), Decimal('5.699'), Decimal('5.547'), Decimal('5.394'), Decimal('5.242'), Decimal('5.095'), Decimal('4.955'), Decimal('4.824'))\n",
      "('Zambia ', Decimal('5.415'), Decimal('5.328'), Decimal('5.233'), Decimal('5.132'), Decimal('5.026'), Decimal('4.918'), Decimal('4.814'), Decimal('4.718'), Decimal('4.633'), Decimal('4.559'))\n",
      "('Zimbabwe ', Decimal('4.034'), Decimal('4.059'), Decimal('4.058'), Decimal('4.030'), Decimal('3.974'), Decimal('3.896'), Decimal('3.804'), Decimal('3.707'), Decimal('3.615'), Decimal('3.531'))\n"
     ]
    }
   ],
   "source": [
    "import mysql.connector\n",
    "mydb = mysql.connector.connect(\n",
    "  host=\"localhost\",\n",
    "  user=\"root\",\n",
    "  passwd=\"1800627cu\",\n",
    "  database=\"CENassignment\"\n",
    ")\n",
    "\n",
    "mycursor = mydb.cursor()\n",
    "\n",
    "\n",
    "#sql = \"INSERT INTO data (Country) VALUES (%s)\"\n",
    "#val = (\"Nor\")\n",
    "mycursor.execute(\"SELECT * FROM data\")\n",
    "\n",
    "#mydb.commit()\n",
    "\n",
    "#print(mycursor.rowcount, \"record inserted.\")\n",
    "myresult = mycursor.fetchall()\n",
    "\n",
    "for x in myresult:\n",
    "  print(x)"
   ]
  },
  {
   "cell_type": "code",
   "execution_count": 33,
   "id": "63144f6b",
   "metadata": {},
   "outputs": [
    {
     "name": "stdout",
     "output_type": "stream",
     "text": [
      "('Algeria', Decimal('2.860'))\n",
      "('Angola ', Decimal('6.194'))\n",
      "('Benin ', Decimal('5.362'))\n",
      "('Botswana ', Decimal('3.022'))\n",
      "('Burkina Faso ', Decimal('5.867'))\n",
      "('Burundi', Decimal('6.179'))\n",
      "('Cameroon', Decimal('5.111'))\n",
      "('Cape Verde', Decimal('2.581'))\n",
      "('Central African Republic ', Decimal('5.215'))\n",
      "('Chad ', Decimal('6.592'))\n",
      "('Comoros', Decimal('4.754'))\n",
      "('Congo [DRC] ', Decimal('6.544'))\n",
      "('Djibouti ', Decimal('3.300'))\n",
      "('Egypt ', Decimal('3.233'))\n",
      "('Equatorial Guinea ', Decimal('5.209'))\n",
      "('Eritrea ', Decimal('4.571'))\n",
      "('Eswatini ', Decimal('3.342'))\n",
      "('Ethiopia', Decimal('5.136'))\n",
      "('Gabon ', Decimal('4.146'))\n",
      "('Gambia ', Decimal('5.583'))\n",
      "('Ghana ', Decimal('4.273'))\n",
      "('Guinea ', Decimal('5.336'))\n",
      "('Guinea-Bissau', Decimal('5.049'))\n",
      "('Ivory Coast ', Decimal('5.088'))\n",
      "('Kenya ', Decimal('4.369'))\n",
      "('Lesotho ', Decimal('3.302'))\n",
      "('Liberia ', Decimal('4.971'))\n",
      "('Libya ', Decimal('2.478'))\n",
      "('Madagascar ', Decimal('4.603'))\n",
      "('Malawi ', Decimal('5.332'))\n",
      "('Mali ', Decimal('6.547'))\n",
      "('Mauritania ', Decimal('4.980'))\n",
      "('Mauritius ', Decimal('1.570'))\n",
      "('Morocco', Decimal('2.567'))\n",
      "('Mozambique ', Decimal('5.392'))\n",
      "('Namibia ', Decimal('3.631'))\n",
      "('Niger ', Decimal('7.473'))\n",
      "('Nigeria ', Decimal('5.839'))\n",
      "('Republic  the Congo ', Decimal('4.765'))\n",
      "('Rwanda ', Decimal('4.520'))\n",
      "('São Tomé Príncipe ', Decimal('4.727'))\n",
      "('Senegal ', Decimal('5.064'))\n",
      "('Seychelles ', Decimal('2.160'))\n",
      "('Sierra Leone ', Decimal('5.202'))\n",
      "('Somalia ', Decimal('6.865'))\n",
      "('South Africa ', Decimal('2.598'))\n",
      "('South Sudan ', Decimal('5.376'))\n",
      "('Sudan ', Decimal('4.876'))\n",
      "('Tanzania ', Decimal('5.427'))\n",
      "('Togo ', Decimal('4.868'))\n",
      "('Tunisia ', Decimal('2.140'))\n",
      "('Uganda ', Decimal('6.111'))\n",
      "('Zambia ', Decimal('5.415'))\n",
      "('Zimbabwe ', Decimal('4.034'))\n"
     ]
    }
   ],
   "source": [
    "mycursor.execute(\"SELECT Country,Year_2010 FROM data\")\n",
    "\n",
    "myresult = mycursor.fetchall()\n",
    "\n",
    "for x in myresult:\n",
    "  print(x)"
   ]
  },
  {
   "cell_type": "code",
   "execution_count": 35,
   "id": "cb656722",
   "metadata": {},
   "outputs": [
    {
     "name": "stdout",
     "output_type": "stream",
     "text": [
      "('Mauritius ', Decimal('1.570'), Decimal('1.550'), Decimal('1.540'), Decimal('1.440'), Decimal('1.430'), Decimal('1.360'), Decimal('1.400'), Decimal('1.440'), Decimal('1.410'), Decimal('1.400'))\n"
     ]
    }
   ],
   "source": [
    "sql = \"SELECT * FROM data WHERE Year_2012<2\"\n",
    "\n",
    "mycursor.execute(sql)\n",
    "\n",
    "myresult = mycursor.fetchall()\n",
    "\n",
    "for x in myresult:\n",
    "  print(x)\n"
   ]
  },
  {
   "cell_type": "code",
   "execution_count": 38,
   "id": "97ad89b6",
   "metadata": {},
   "outputs": [
    {
     "name": "stdout",
     "output_type": "stream",
     "text": [
      "('Algeria', Decimal('2.860'), Decimal('2.909'), Decimal('2.952'), Decimal('2.990'), Decimal('3.022'), Decimal('3.043'), Decimal('3.052'), Decimal('3.045'), Decimal('3.023'), Decimal('2.988'))\n",
      "('Botswana ', Decimal('3.022'), Decimal('3.017'), Decimal('3.011'), Decimal('3.002'), Decimal('2.988'), Decimal('2.968'), Decimal('2.942'), Decimal('2.910'), Decimal('2.874'), Decimal('2.836'))\n",
      "('Cape Verde', Decimal('2.581'), Decimal('2.539'), Decimal('2.500'), Decimal('2.463'), Decimal('2.425'), Decimal('2.385'), Decimal('2.346'), Decimal('2.309'), Decimal('2.274'), Decimal('2.242'))\n",
      "('Djibouti ', Decimal('3.300'), Decimal('3.213'), Decimal('3.131'), Decimal('3.054'), Decimal('2.981'), Decimal('2.912'), Decimal('2.846'), Decimal('2.785'), Decimal('2.728'), Decimal('2.676'))\n",
      "('Egypt ', Decimal('3.233'), Decimal('3.311'), Decimal('3.377'), Decimal('3.421'), Decimal('3.441'), Decimal('3.436'), Decimal('3.410'), Decimal('3.370'), Decimal('3.326'), Decimal('3.280'))\n",
      "('Eswatini ', Decimal('3.342'), Decimal('3.264'), Decimal('3.195'), Decimal('3.139'), Decimal('3.097'), Decimal('3.065'), Decimal('3.041'), Decimal('3.018'), Decimal('2.990'), Decimal('2.958'))\n",
      "('Kenya ', Decimal('4.369'), Decimal('4.248'), Decimal('4.123'), Decimal('3.999'), Decimal('3.879'), Decimal('3.765'), Decimal('3.663'), Decimal('3.572'), Decimal('3.492'), Decimal('3.423'))\n",
      "('Lesotho ', Decimal('3.302'), Decimal('3.282'), Decimal('3.265'), Decimal('3.250'), Decimal('3.235'), Decimal('3.218'), Decimal('3.197'), Decimal('3.171'), Decimal('3.141'), Decimal('3.108'))\n",
      "('Libya ', Decimal('2.478'), Decimal('2.466'), Decimal('2.447'), Decimal('2.423'), Decimal('2.392'), Decimal('2.356'), Decimal('2.317'), Decimal('2.277'), Decimal('2.240'), Decimal('2.206'))\n",
      "('Mauritius ', Decimal('1.570'), Decimal('1.550'), Decimal('1.540'), Decimal('1.440'), Decimal('1.430'), Decimal('1.360'), Decimal('1.400'), Decimal('1.440'), Decimal('1.410'), Decimal('1.400'))\n",
      "('Morocco', Decimal('2.567'), Decimal('2.576'), Decimal('2.579'), Decimal('2.571'), Decimal('2.552'), Decimal('2.524'), Decimal('2.489'), Decimal('2.451'), Decimal('2.415'), Decimal('2.382'))\n",
      "('Namibia ', Decimal('3.631'), Decimal('3.632'), Decimal('3.623'), Decimal('3.604'), Decimal('3.577'), Decimal('3.540'), Decimal('3.496'), Decimal('3.447'), Decimal('3.396'), Decimal('3.344'))\n",
      "('Seychelles ', Decimal('2.160'), Decimal('2.330'), Decimal('2.370'), Decimal('2.260'), Decimal('2.250'), Decimal('2.310'), Decimal('2.390'), Decimal('2.410'), Decimal('2.410'), Decimal('2.340'))\n",
      "('South Africa ', Decimal('2.598'), Decimal('2.582'), Decimal('2.561'), Decimal('2.537'), Decimal('2.511'), Decimal('2.484'), Decimal('2.457'), Decimal('2.430'), Decimal('2.405'), Decimal('2.381'))\n",
      "('Tunisia ', Decimal('2.140'), Decimal('2.182'), Decimal('2.216'), Decimal('2.240'), Decimal('2.252'), Decimal('2.251'), Decimal('2.238'), Decimal('2.219'), Decimal('2.197'), Decimal('2.174'))\n"
     ]
    }
   ],
   "source": [
    "sql = \"SELECT * FROM data WHERE Year_2012 <3 AND country='Algeria' OR Year_2013 <4 AND country!='Nigeria'\"\n",
    "\n",
    "mycursor.execute(sql)\n",
    "\n",
    "myresult = mycursor.fetchall()\n",
    "\n",
    "for x in myresult:\n",
    "  print(x)\n"
   ]
  },
  {
   "cell_type": "code",
   "execution_count": 49,
   "id": "a5953d5d",
   "metadata": {},
   "outputs": [
    {
     "name": "stdout",
     "output_type": "stream",
     "text": [
      "0 record(s) affected\n"
     ]
    }
   ],
   "source": [
    "sql = \"UPDATE data SET  = 'Nigeria' WHERE country = 'Nigerias'\"\n",
    "\n",
    "mycursor.execute(sql)\n",
    "\n",
    "mydb.commit()\n",
    "\n",
    "print(mycursor.rowcount, \"record(s) affected\")\n",
    "\n"
   ]
  },
  {
   "cell_type": "code",
   "execution_count": 51,
   "id": "5ae52cd9",
   "metadata": {},
   "outputs": [
    {
     "name": "stdout",
     "output_type": "stream",
     "text": [
      "1 record inserted.\n"
     ]
    }
   ],
   "source": [
    "sql = \"INSERT INTO data (Country,Year_2010 ) VALUES (%s, %s)\"\n",
    "val = (\"Norway\", 3.200)\n",
    "mycursor.execute(sql, val)\n",
    "\n",
    "mydb.commit()\n",
    "\n",
    "print(mycursor.rowcount, \"record inserted.\")"
   ]
  },
  {
   "cell_type": "code",
   "execution_count": 53,
   "id": "9ce28de3",
   "metadata": {},
   "outputs": [
    {
     "name": "stdout",
     "output_type": "stream",
     "text": [
      "1 record(s) deleted\n"
     ]
    }
   ],
   "source": [
    "sql = \"DELETE FROM data WHERE country = 'Norway'\"\n",
    "\n",
    "mycursor.execute(sql)\n",
    "\n",
    "mydb.commit()\n",
    "\n",
    "print(mycursor.rowcount, \"record(s) deleted\")"
   ]
  },
  {
   "cell_type": "code",
   "execution_count": null,
   "id": "cfbcf960",
   "metadata": {},
   "outputs": [],
   "source": []
  }
 ],
 "metadata": {
  "kernelspec": {
   "display_name": "Python 3 (ipykernel)",
   "language": "python",
   "name": "python3"
  },
  "language_info": {
   "codemirror_mode": {
    "name": "ipython",
    "version": 3
   },
   "file_extension": ".py",
   "mimetype": "text/x-python",
   "name": "python",
   "nbconvert_exporter": "python",
   "pygments_lexer": "ipython3",
   "version": "3.9.5"
  }
 },
 "nbformat": 4,
 "nbformat_minor": 5
}
